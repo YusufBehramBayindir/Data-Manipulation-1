{
 "cells": [
  {
   "cell_type": "code",
   "execution_count": 14,
   "id": "a01e1113-86f7-47b3-bd8c-4cb10102fc0e",
   "metadata": {},
   "outputs": [],
   "source": [
    "a = [1,2,3,4]\n",
    "b = [2,3,4,5]\n",
    "# 2 hücreyi çalıştır dersek arka arkaya, bize sadece son çalıştırılan hücreyi verir\n",
    "#a\n",
    "#b"
   ]
  },
  {
   "cell_type": "code",
   "execution_count": 15,
   "id": "6a29d650-327f-4011-ad07-475f8d90cd88",
   "metadata": {},
   "outputs": [
    {
     "data": {
      "text/plain": [
       "[2, 6, 12, 20]"
      ]
     },
     "execution_count": 15,
     "metadata": {},
     "output_type": "execute_result"
    }
   ],
   "source": [
    "ab =[] \n",
    "\n",
    "for i in range(0,len(a)):\n",
    "    ab.append(a[i] * b[i])\n",
    "ab"
   ]
  },
  {
   "cell_type": "code",
   "execution_count": 16,
   "id": "840f686b-578c-4d38-8ee1-82442ce14b8e",
   "metadata": {},
   "outputs": [],
   "source": [
    "import numpy as np"
   ]
  },
  {
   "cell_type": "code",
   "execution_count": 17,
   "id": "a946eeb7-4088-414e-b3af-adb55f320deb",
   "metadata": {},
   "outputs": [],
   "source": [
    "a = np.array([1,2,3,4])\n",
    "b = np.array([2,5,6,8])"
   ]
  },
  {
   "cell_type": "code",
   "execution_count": 18,
   "id": "0db88570-0b53-4ea7-8903-6d15996b461e",
   "metadata": {},
   "outputs": [
    {
     "data": {
      "text/plain": [
       "array([ 2, 10, 18, 32])"
      ]
     },
     "execution_count": 18,
     "metadata": {},
     "output_type": "execute_result"
    }
   ],
   "source": [
    "a*b"
   ]
  },
  {
   "cell_type": "code",
   "execution_count": 20,
   "id": "9a17f14f-fac7-40fd-b26a-375118881709",
   "metadata": {},
   "outputs": [
    {
     "data": {
      "text/plain": [
       "array([3, 4, 5, 6, 7])"
      ]
     },
     "execution_count": 20,
     "metadata": {},
     "output_type": "execute_result"
    }
   ],
   "source": [
    "np.array([3.14,4,12,3])\n",
    "np.array([3.14,4,5,6,7] , dtype = \"int\")"
   ]
  },
  {
   "cell_type": "code",
   "execution_count": 21,
   "id": "ef52e0fd-56b2-4bc6-a922-35ab2b9aa177",
   "metadata": {},
   "outputs": [],
   "source": [
    "#Sıfırdan array oluşturma"
   ]
  },
  {
   "cell_type": "code",
   "execution_count": 24,
   "id": "63f6d93c-695e-42b3-b211-260745c1db44",
   "metadata": {},
   "outputs": [
    {
     "data": {
      "text/plain": [
       "array([0, 0, 0, 0, 0, 0, 0, 0, 0, 0])"
      ]
     },
     "execution_count": 24,
     "metadata": {},
     "output_type": "execute_result"
    }
   ],
   "source": [
    "np.zeros(10, dtype = int )"
   ]
  },
  {
   "cell_type": "code",
   "execution_count": 25,
   "id": "f1568b51-b206-4f1c-80d9-1821db7f0a3c",
   "metadata": {},
   "outputs": [
    {
     "data": {
      "text/plain": [
       "array([[1, 1, 1, 1, 1],\n",
       "       [1, 1, 1, 1, 1],\n",
       "       [1, 1, 1, 1, 1]])"
      ]
     },
     "execution_count": 25,
     "metadata": {},
     "output_type": "execute_result"
    }
   ],
   "source": [
    "np.ones((3,5) , dtype= int)"
   ]
  },
  {
   "cell_type": "code",
   "execution_count": 26,
   "id": "be28f8c6-a45b-4434-84d8-27b2f074f6b8",
   "metadata": {},
   "outputs": [
    {
     "data": {
      "text/plain": [
       "array([[4, 4, 4, 4, 4],\n",
       "       [4, 4, 4, 4, 4],\n",
       "       [4, 4, 4, 4, 4]])"
      ]
     },
     "execution_count": 26,
     "metadata": {},
     "output_type": "execute_result"
    }
   ],
   "source": [
    "np.full((3,5), 4)"
   ]
  },
  {
   "cell_type": "code",
   "execution_count": 27,
   "id": "ffb85131-8186-45cd-a342-a4588dce08c4",
   "metadata": {},
   "outputs": [
    {
     "data": {
      "text/plain": [
       "array([ 0,  3,  6,  9, 12, 15, 18, 21, 24, 27, 30])"
      ]
     },
     "execution_count": 27,
     "metadata": {},
     "output_type": "execute_result"
    }
   ],
   "source": [
    "np.arange(0,31,3)"
   ]
  },
  {
   "cell_type": "code",
   "execution_count": 29,
   "id": "32e954db-f9f3-4e20-80f2-05f1d245a2a8",
   "metadata": {},
   "outputs": [
    {
     "data": {
      "text/plain": [
       "array([0.  , 0.05, 0.1 , 0.15, 0.2 , 0.25, 0.3 , 0.35, 0.4 , 0.45, 0.5 ,\n",
       "       0.55, 0.6 , 0.65, 0.7 , 0.75, 0.8 , 0.85, 0.9 , 0.95, 1.  ])"
      ]
     },
     "execution_count": 29,
     "metadata": {},
     "output_type": "execute_result"
    }
   ],
   "source": [
    "np.linspace(0,1,21)"
   ]
  },
  {
   "cell_type": "code",
   "execution_count": 30,
   "id": "178123f1-ed95-4649-88c5-4348298074ac",
   "metadata": {},
   "outputs": [
    {
     "data": {
      "text/plain": [
       "array([[ 5.01039614,  8.86916089, 16.21425821,  6.4780825 ],\n",
       "       [ 7.5480646 , 11.31837928,  9.99350117, 12.23098653],\n",
       "       [ 7.1640051 ,  9.76927522, 14.75816599,  7.44491266]])"
      ]
     },
     "execution_count": 30,
     "metadata": {},
     "output_type": "execute_result"
    }
   ],
   "source": [
    "np.random.normal(10,4,(3,4))\n",
    "\n",
    "# Ortalaması= 10, stds = 4\n",
    "# Tek boyutlu array vektör, 2D matrix"
   ]
  },
  {
   "cell_type": "code",
   "execution_count": 31,
   "id": "44b924e3-21ee-4f6a-9d37-8749439aad25",
   "metadata": {},
   "outputs": [
    {
     "data": {
      "text/plain": [
       "array([[0, 8, 3],\n",
       "       [3, 5, 2],\n",
       "       [0, 9, 9]])"
      ]
     },
     "execution_count": 31,
     "metadata": {},
     "output_type": "execute_result"
    }
   ],
   "source": [
    "np.random.randint(0,10, (3,3))"
   ]
  },
  {
   "cell_type": "markdown",
   "id": "24480191-743a-4216-913c-86109d827a24",
   "metadata": {},
   "source": [
    "- ndim: Boyut sayısı\n",
    "- shape: Boyut bilgisi\n",
    "- size: Toplam eleman sayısı\n",
    "- dtype: Array veri tipi\n",
    "- **kalın** \n",
    "- _italik_"
   ]
  },
  {
   "cell_type": "code",
   "execution_count": 35,
   "id": "32d9b69b-8bfe-48ff-9123-0353d18e7745",
   "metadata": {},
   "outputs": [
    {
     "data": {
      "text/plain": [
       "array([6, 0, 5, 6, 9, 7, 0, 2, 4, 3])"
      ]
     },
     "execution_count": 35,
     "metadata": {},
     "output_type": "execute_result"
    }
   ],
   "source": [
    "np.random.randint(10, size = 10)"
   ]
  },
  {
   "cell_type": "code",
   "execution_count": 41,
   "id": "642d7079-370c-43fa-a56c-7bdb516049df",
   "metadata": {},
   "outputs": [],
   "source": [
    "a = np.random.randint(10, size = 10)"
   ]
  },
  {
   "cell_type": "code",
   "execution_count": 42,
   "id": "627ae2ff-ce4f-4b59-9615-b9cfaea5eca6",
   "metadata": {},
   "outputs": [
    {
     "data": {
      "text/plain": [
       "1"
      ]
     },
     "execution_count": 42,
     "metadata": {},
     "output_type": "execute_result"
    }
   ],
   "source": [
    "a.ndim"
   ]
  },
  {
   "cell_type": "code",
   "execution_count": 43,
   "id": "3fae1eda-8974-4da2-a218-31d4bc81de5b",
   "metadata": {},
   "outputs": [
    {
     "data": {
      "text/plain": [
       "dtype('int64')"
      ]
     },
     "execution_count": 43,
     "metadata": {},
     "output_type": "execute_result"
    }
   ],
   "source": [
    "a.dtype"
   ]
  },
  {
   "cell_type": "code",
   "execution_count": 44,
   "id": "9275bc18-53fc-4d09-bc3b-b418b86c7af2",
   "metadata": {},
   "outputs": [
    {
     "data": {
      "text/plain": [
       "10"
      ]
     },
     "execution_count": 44,
     "metadata": {},
     "output_type": "execute_result"
    }
   ],
   "source": [
    "a.size"
   ]
  },
  {
   "cell_type": "code",
   "execution_count": 45,
   "id": "962e9edf-d412-492c-b778-da28b6103a53",
   "metadata": {},
   "outputs": [
    {
     "data": {
      "text/plain": [
       "(10,)"
      ]
     },
     "execution_count": 45,
     "metadata": {},
     "output_type": "execute_result"
    }
   ],
   "source": [
    "a.shape"
   ]
  },
  {
   "cell_type": "code",
   "execution_count": 47,
   "id": "a40060d7-ba9a-40e6-884b-17dbdc76331a",
   "metadata": {},
   "outputs": [],
   "source": [
    "b = np.random.randint(10, size =(3,5))"
   ]
  },
  {
   "cell_type": "code",
   "execution_count": 48,
   "id": "fd22715a-3739-43f1-98da-cff8854687b9",
   "metadata": {},
   "outputs": [
    {
     "data": {
      "text/plain": [
       "array([[0, 6, 2, 5, 6],\n",
       "       [7, 9, 2, 5, 6],\n",
       "       [1, 6, 2, 7, 5]])"
      ]
     },
     "execution_count": 48,
     "metadata": {},
     "output_type": "execute_result"
    }
   ],
   "source": [
    "b"
   ]
  },
  {
   "cell_type": "code",
   "execution_count": 49,
   "id": "9ef433c9-1698-4b78-928a-83c615fc9c21",
   "metadata": {},
   "outputs": [
    {
     "data": {
      "text/plain": [
       "2"
      ]
     },
     "execution_count": 49,
     "metadata": {},
     "output_type": "execute_result"
    }
   ],
   "source": [
    "b.ndim"
   ]
  },
  {
   "cell_type": "code",
   "execution_count": 50,
   "id": "f63d6247-eaf2-4b25-9f43-47a93b5a4366",
   "metadata": {},
   "outputs": [
    {
     "data": {
      "text/plain": [
       "(3, 5)"
      ]
     },
     "execution_count": 50,
     "metadata": {},
     "output_type": "execute_result"
    }
   ],
   "source": [
    "b.shape"
   ]
  },
  {
   "cell_type": "code",
   "execution_count": 51,
   "id": "d99efd7d-0692-47f9-97ab-245e21a1e2fb",
   "metadata": {},
   "outputs": [
    {
     "data": {
      "text/plain": [
       "dtype('int64')"
      ]
     },
     "execution_count": 51,
     "metadata": {},
     "output_type": "execute_result"
    }
   ],
   "source": [
    "b.dtype"
   ]
  },
  {
   "cell_type": "code",
   "execution_count": 52,
   "id": "47d762d7-c47c-48a2-b1cc-c352145a2039",
   "metadata": {},
   "outputs": [
    {
     "data": {
      "text/plain": [
       "15"
      ]
     },
     "execution_count": 52,
     "metadata": {},
     "output_type": "execute_result"
    }
   ],
   "source": [
    "b.size"
   ]
  },
  {
   "cell_type": "markdown",
   "id": "8b87cd16-c4e4-42fd-99a4-b8c4b893c784",
   "metadata": {},
   "source": [
    "# Yeniden Şekillendirme (reshaping)"
   ]
  },
  {
   "cell_type": "code",
   "execution_count": 54,
   "id": "e7974d92-025b-4764-83fd-053a22193e4c",
   "metadata": {},
   "outputs": [],
   "source": [
    "import numpy as np"
   ]
  },
  {
   "cell_type": "code",
   "execution_count": 55,
   "id": "94758a7f-b7ef-42af-b3e6-2e85348c18ec",
   "metadata": {},
   "outputs": [
    {
     "data": {
      "text/plain": [
       "array([1, 2, 3, 4, 5, 6, 7, 8, 9])"
      ]
     },
     "execution_count": 55,
     "metadata": {},
     "output_type": "execute_result"
    }
   ],
   "source": [
    "np.arange(1,10)"
   ]
  },
  {
   "cell_type": "code",
   "execution_count": 56,
   "id": "d2b7f730-7d9e-4f10-97ce-d994ace57934",
   "metadata": {},
   "outputs": [
    {
     "data": {
      "text/plain": [
       "array([[1, 2, 3],\n",
       "       [4, 5, 6],\n",
       "       [7, 8, 9]])"
      ]
     },
     "execution_count": 56,
     "metadata": {},
     "output_type": "execute_result"
    }
   ],
   "source": [
    "np.arange(1,10).reshape((3,3))"
   ]
  },
  {
   "cell_type": "code",
   "execution_count": 59,
   "id": "ee34f475-cb10-427a-820c-5919c2eec0ab",
   "metadata": {},
   "outputs": [],
   "source": [
    "a = np.arange(1,10)"
   ]
  },
  {
   "cell_type": "code",
   "execution_count": 60,
   "id": "f6865d3c-2a8d-403a-8da3-233dbf54ce38",
   "metadata": {},
   "outputs": [
    {
     "data": {
      "text/plain": [
       "array([1, 2, 3, 4, 5, 6, 7, 8, 9])"
      ]
     },
     "execution_count": 60,
     "metadata": {},
     "output_type": "execute_result"
    }
   ],
   "source": [
    "a"
   ]
  },
  {
   "cell_type": "code",
   "execution_count": null,
   "id": "d9f56a3d-349f-4fae-bd18-7a7fe631df15",
   "metadata": {},
   "outputs": [],
   "source": [
    "#tek boyutlu array = vektör\n",
    "#iki boyutlu array = matrix"
   ]
  },
  {
   "cell_type": "code",
   "execution_count": 61,
   "id": "2673a89f-9b5e-45e7-a41d-ce32a6ad0225",
   "metadata": {},
   "outputs": [
    {
     "data": {
      "text/plain": [
       "1"
      ]
     },
     "execution_count": 61,
     "metadata": {},
     "output_type": "execute_result"
    }
   ],
   "source": [
    "a.ndim"
   ]
  },
  {
   "cell_type": "code",
   "execution_count": 67,
   "id": "d0458b61-3d71-418d-905b-d6602cde8041",
   "metadata": {},
   "outputs": [
    {
     "data": {
      "text/plain": [
       "array([[1, 2, 3, 4, 5, 6, 7, 8, 9]])"
      ]
     },
     "execution_count": 67,
     "metadata": {},
     "output_type": "execute_result"
    }
   ],
   "source": [
    "b = a.reshape((1,9))"
   ]
  },
  {
   "cell_type": "code",
   "execution_count": 69,
   "id": "b0efc528-41b7-4e77-8035-294b84361f2c",
   "metadata": {},
   "outputs": [
    {
     "data": {
      "text/plain": [
       "2"
      ]
     },
     "execution_count": 69,
     "metadata": {},
     "output_type": "execute_result"
    }
   ],
   "source": [
    "b.ndim"
   ]
  },
  {
   "cell_type": "markdown",
   "id": "198a2bd9-7376-4918-b69c-0c3b058a7981",
   "metadata": {},
   "source": [
    "# Array Birleştirme (Concatenation)"
   ]
  },
  {
   "cell_type": "code",
   "execution_count": 3,
   "id": "cd26caf3-790d-45dc-bce2-527d3da900e4",
   "metadata": {},
   "outputs": [],
   "source": [
    "import numpy as np"
   ]
  },
  {
   "cell_type": "code",
   "execution_count": 72,
   "id": "a7c32d12-d69b-4dcf-97f1-fb55ed7c9bd0",
   "metadata": {},
   "outputs": [],
   "source": [
    "x = np.array([1,2,3])\n",
    "y = np.array([4,5,6])"
   ]
  },
  {
   "cell_type": "code",
   "execution_count": 73,
   "id": "9fb413dc-2809-48df-a6cf-79e76d039782",
   "metadata": {},
   "outputs": [
    {
     "data": {
      "text/plain": [
       "array([1, 2, 3, 4, 5, 6])"
      ]
     },
     "execution_count": 73,
     "metadata": {},
     "output_type": "execute_result"
    }
   ],
   "source": [
    "np.concatenate([x,y])"
   ]
  },
  {
   "cell_type": "code",
   "execution_count": 80,
   "id": "a00be7db-1407-46a2-99db-80b86a688090",
   "metadata": {},
   "outputs": [],
   "source": [
    "z = np.array([7,8,9])"
   ]
  },
  {
   "cell_type": "code",
   "execution_count": 81,
   "id": "fec643dd-4a68-4a93-b72f-6f077e493e8a",
   "metadata": {},
   "outputs": [
    {
     "data": {
      "text/plain": [
       "array([1, 2, 3, 4, 5, 6, 7, 8, 9])"
      ]
     },
     "execution_count": 81,
     "metadata": {},
     "output_type": "execute_result"
    }
   ],
   "source": [
    "np.concatenate([x,y,z])"
   ]
  },
  {
   "cell_type": "code",
   "execution_count": 74,
   "id": "24d6bee9-50c8-4919-9e18-d3b741e9794a",
   "metadata": {},
   "outputs": [],
   "source": [
    "#iki boyut"
   ]
  },
  {
   "cell_type": "code",
   "execution_count": 4,
   "id": "b98c9062-919f-49d8-a8e2-ae3ad3ba7d2e",
   "metadata": {},
   "outputs": [],
   "source": [
    "#iki boyutlu array oluşturmak için iki tane köşeli parantez kullanıyoruz.\n",
    "a = np.array([[1,2,3],\n",
    "             [4,5,6]])"
   ]
  },
  {
   "cell_type": "code",
   "execution_count": 76,
   "id": "ec467ba3-c335-4366-8863-beb229637181",
   "metadata": {},
   "outputs": [
    {
     "data": {
      "text/plain": [
       "array([[1, 2, 3],\n",
       "       [4, 5, 6],\n",
       "       [1, 2, 3],\n",
       "       [4, 5, 6]])"
      ]
     },
     "execution_count": 76,
     "metadata": {},
     "output_type": "execute_result"
    }
   ],
   "source": [
    "np.concatenate([a,a])"
   ]
  },
  {
   "cell_type": "code",
   "execution_count": 77,
   "id": "f358adfd-a140-4aef-bc09-7c4b80987788",
   "metadata": {},
   "outputs": [
    {
     "data": {
      "text/plain": [
       "array([[1, 2, 3],\n",
       "       [4, 5, 6],\n",
       "       [1, 2, 3],\n",
       "       [4, 5, 6]])"
      ]
     },
     "execution_count": 77,
     "metadata": {},
     "output_type": "execute_result"
    }
   ],
   "source": [
    "np.concatenate([a,a], axis = 0)"
   ]
  },
  {
   "cell_type": "code",
   "execution_count": 78,
   "id": "b9bf5369-acc0-469c-8f8d-3da8b14f72fb",
   "metadata": {},
   "outputs": [
    {
     "data": {
      "text/plain": [
       "array([[1, 2, 3, 1, 2, 3],\n",
       "       [4, 5, 6, 4, 5, 6]])"
      ]
     },
     "execution_count": 78,
     "metadata": {},
     "output_type": "execute_result"
    }
   ],
   "source": [
    "np.concatenate([a,a], axis = 1)"
   ]
  },
  {
   "cell_type": "markdown",
   "id": "19dc3dc9-0952-4f4a-b54a-4a9c1e051cc8",
   "metadata": {},
   "source": [
    "# Arrayleri ayırma (Splitting)"
   ]
  },
  {
   "cell_type": "code",
   "execution_count": 82,
   "id": "8ca07dd7-8e7b-4ea0-89eb-0c0774a8cefa",
   "metadata": {},
   "outputs": [],
   "source": [
    "#n indexe karşılık n+1 ayırma işlemi yapılır."
   ]
  },
  {
   "cell_type": "code",
   "execution_count": 3,
   "id": "94ada06b-6cf5-4449-90e3-3711fa55b257",
   "metadata": {},
   "outputs": [],
   "source": [
    "import numpy as np"
   ]
  },
  {
   "cell_type": "code",
   "execution_count": 7,
   "id": "cc39cef1-22bc-470a-8b24-ae1d32623145",
   "metadata": {},
   "outputs": [],
   "source": [
    "x = np.array([1,2,3,99,99,3,2,1])"
   ]
  },
  {
   "cell_type": "code",
   "execution_count": 5,
   "id": "b53f9b9d-3f78-4efb-a2e6-5462b9fd9a48",
   "metadata": {},
   "outputs": [
    {
     "data": {
      "text/plain": [
       "[array([1, 2, 3]), array([99, 99]), array([3, 2, 1])]"
      ]
     },
     "execution_count": 5,
     "metadata": {},
     "output_type": "execute_result"
    }
   ],
   "source": [
    "np.split(x, [3,5])\n"
   ]
  },
  {
   "cell_type": "code",
   "execution_count": 5,
   "id": "6d60a419-bf22-4f56-b910-07fe3ea1e2d4",
   "metadata": {},
   "outputs": [],
   "source": [
    "# 2 tane index verdik 3 işlem yapılıyor, 3 tane index verseydik aralık olarak 4 tane işlem yapılırdı.\n",
    "# n indexe karşılık n+1 ayırma işlemi yapılır."
   ]
  },
  {
   "cell_type": "code",
   "execution_count": 9,
   "id": "0fb7a6d1-bc84-4a43-8d9b-bd148b01cca7",
   "metadata": {},
   "outputs": [],
   "source": [
    "# a,b,c direkt 3 çıktıya atanır. Diğer birçok python işlemi için gerçekleştirilebilir\n",
    "a,b,c = np.split(x, [3,5])"
   ]
  },
  {
   "cell_type": "code",
   "execution_count": 8,
   "id": "09e27fd4-f13b-406a-a223-b5ae8f07f4a1",
   "metadata": {},
   "outputs": [
    {
     "data": {
      "text/plain": [
       "array([1, 2, 3])"
      ]
     },
     "execution_count": 8,
     "metadata": {},
     "output_type": "execute_result"
    }
   ],
   "source": [
    "a"
   ]
  },
  {
   "cell_type": "code",
   "execution_count": 9,
   "id": "9997dd56-40eb-46ff-9773-d06ededc6d11",
   "metadata": {},
   "outputs": [
    {
     "data": {
      "text/plain": [
       "array([99, 99])"
      ]
     },
     "execution_count": 9,
     "metadata": {},
     "output_type": "execute_result"
    }
   ],
   "source": [
    "b"
   ]
  },
  {
   "cell_type": "code",
   "execution_count": 10,
   "id": "2fcfe291-a447-4f58-9b9f-1d76e431792f",
   "metadata": {},
   "outputs": [
    {
     "data": {
      "text/plain": [
       "array([3, 2, 1])"
      ]
     },
     "execution_count": 10,
     "metadata": {},
     "output_type": "execute_result"
    }
   ],
   "source": [
    "c"
   ]
  },
  {
   "cell_type": "code",
   "execution_count": 11,
   "id": "35af935b-9cfd-4ff6-b896-2224064bc27f",
   "metadata": {},
   "outputs": [],
   "source": [
    "#iki boyutlu ayırma"
   ]
  },
  {
   "cell_type": "code",
   "execution_count": 12,
   "id": "50248efa-ebb9-4331-8a4e-b213e13f9c18",
   "metadata": {},
   "outputs": [],
   "source": [
    "# Tek boyutlu bir arrayi .reshape ile 2 boyutlu hale getirebiliyoruz.\n",
    "m = np.arange(16).reshape(4,4)"
   ]
  },
  {
   "cell_type": "code",
   "execution_count": 13,
   "id": "42b24797-8a77-4717-9bbf-e6926ed6af98",
   "metadata": {},
   "outputs": [
    {
     "data": {
      "text/plain": [
       "array([[ 0,  1,  2,  3],\n",
       "       [ 4,  5,  6,  7],\n",
       "       [ 8,  9, 10, 11],\n",
       "       [12, 13, 14, 15]])"
      ]
     },
     "execution_count": 13,
     "metadata": {},
     "output_type": "execute_result"
    }
   ],
   "source": [
    "m"
   ]
  },
  {
   "cell_type": "code",
   "execution_count": 14,
   "id": "e55cb1a9-31ba-4bac-821c-ae7d38ab2083",
   "metadata": {},
   "outputs": [
    {
     "data": {
      "text/plain": [
       "[array([[0, 1, 2, 3],\n",
       "        [4, 5, 6, 7]]),\n",
       " array([[ 8,  9, 10, 11],\n",
       "        [12, 13, 14, 15]])]"
      ]
     },
     "execution_count": 14,
     "metadata": {},
     "output_type": "execute_result"
    }
   ],
   "source": [
    "# 2. satıra kadar 'e kadar devam etmektedir. \n",
    "np.vsplit(m,[2])"
   ]
  },
  {
   "cell_type": "code",
   "execution_count": 15,
   "id": "ac870308-d3a4-4241-b320-dc9389a25cea",
   "metadata": {},
   "outputs": [],
   "source": [
    "ust,alt = np.vsplit(m,[2])"
   ]
  },
  {
   "cell_type": "code",
   "execution_count": 17,
   "id": "08b3a417-fd5b-48d1-9838-e416dc32875c",
   "metadata": {},
   "outputs": [
    {
     "data": {
      "text/plain": [
       "array([[0, 1, 2, 3],\n",
       "       [4, 5, 6, 7]])"
      ]
     },
     "execution_count": 17,
     "metadata": {},
     "output_type": "execute_result"
    }
   ],
   "source": [
    "ust"
   ]
  },
  {
   "cell_type": "code",
   "execution_count": 20,
   "id": "5b5f4232-9d5f-4c71-9eb8-b9ad165e598e",
   "metadata": {},
   "outputs": [
    {
     "data": {
      "text/plain": [
       "array([[ 8,  9, 10, 11],\n",
       "       [12, 13, 14, 15]])"
      ]
     },
     "execution_count": 20,
     "metadata": {},
     "output_type": "execute_result"
    }
   ],
   "source": [
    "alt"
   ]
  },
  {
   "cell_type": "code",
   "execution_count": 16,
   "id": "1a8da1e3-53a1-467f-80a9-deedf4a5f885",
   "metadata": {},
   "outputs": [
    {
     "data": {
      "text/plain": [
       "array([[ 0,  1,  2,  3],\n",
       "       [ 4,  5,  6,  7],\n",
       "       [ 8,  9, 10, 11],\n",
       "       [12, 13, 14, 15]])"
      ]
     },
     "execution_count": 16,
     "metadata": {},
     "output_type": "execute_result"
    }
   ],
   "source": [
    "m"
   ]
  },
  {
   "cell_type": "code",
   "execution_count": 17,
   "id": "d9f11008-f9d4-4d72-8c79-64b1838a7114",
   "metadata": {},
   "outputs": [
    {
     "data": {
      "text/plain": [
       "[array([[ 0,  1],\n",
       "        [ 4,  5],\n",
       "        [ 8,  9],\n",
       "        [12, 13]]),\n",
       " array([[ 2,  3],\n",
       "        [ 6,  7],\n",
       "        [10, 11],\n",
       "        [14, 15]])]"
      ]
     },
     "execution_count": 17,
     "metadata": {},
     "output_type": "execute_result"
    }
   ],
   "source": [
    "# 2. sütuna kadar 'e kadar devam etmektedir. \n",
    "np.hsplit(m,[2])"
   ]
  },
  {
   "cell_type": "code",
   "execution_count": 22,
   "id": "b97b1645-bb4c-470f-b5ed-f72d39d7e041",
   "metadata": {},
   "outputs": [],
   "source": [
    "sag, sol = np.hsplit(m,[2])"
   ]
  },
  {
   "cell_type": "code",
   "execution_count": 23,
   "id": "eeed82c2-99de-4755-936e-53f8732144fc",
   "metadata": {},
   "outputs": [
    {
     "data": {
      "text/plain": [
       "array([[ 0,  1],\n",
       "       [ 4,  5],\n",
       "       [ 8,  9],\n",
       "       [12, 13]])"
      ]
     },
     "execution_count": 23,
     "metadata": {},
     "output_type": "execute_result"
    }
   ],
   "source": [
    "sag"
   ]
  },
  {
   "cell_type": "code",
   "execution_count": 24,
   "id": "23dc8bb9-2c28-4d8a-b91b-e4e9b844dc32",
   "metadata": {},
   "outputs": [
    {
     "data": {
      "text/plain": [
       "array([[ 2,  3],\n",
       "       [ 6,  7],\n",
       "       [10, 11],\n",
       "       [14, 15]])"
      ]
     },
     "execution_count": 24,
     "metadata": {},
     "output_type": "execute_result"
    }
   ],
   "source": [
    "sol"
   ]
  },
  {
   "cell_type": "markdown",
   "id": "43023cff-5422-49d5-a917-b31c99462737",
   "metadata": {},
   "source": [
    "# Array Sıralama (Sorting)"
   ]
  },
  {
   "cell_type": "code",
   "execution_count": 19,
   "id": "a7f594e2-3894-4c39-963b-ac0c5b66f48b",
   "metadata": {},
   "outputs": [],
   "source": [
    "import numpy as np"
   ]
  },
  {
   "cell_type": "code",
   "execution_count": 20,
   "id": "ef4dfb30-780a-4df2-bbab-c9fc7a92abb1",
   "metadata": {},
   "outputs": [],
   "source": [
    "v = np.array([2,1,4,3,5,6])"
   ]
  },
  {
   "cell_type": "code",
   "execution_count": 21,
   "id": "307596d8-025b-444c-a94a-b17a52b345e3",
   "metadata": {},
   "outputs": [
    {
     "data": {
      "text/plain": [
       "array([2, 1, 4, 3, 5, 6])"
      ]
     },
     "execution_count": 21,
     "metadata": {},
     "output_type": "execute_result"
    }
   ],
   "source": [
    "v"
   ]
  },
  {
   "cell_type": "code",
   "execution_count": 22,
   "id": "76ede3e1-7059-44be-acb9-4b72eb56ade3",
   "metadata": {},
   "outputs": [
    {
     "data": {
      "text/plain": [
       "array([1, 2, 3, 4, 5, 6])"
      ]
     },
     "execution_count": 22,
     "metadata": {},
     "output_type": "execute_result"
    }
   ],
   "source": [
    "#sort metodu (fonksiyonunu kullanıyoruz)\n",
    "# numpy'ın içinden çağırılınca sort metodu ifadeyi bozmadı.\n",
    "np.sort(v)"
   ]
  },
  {
   "cell_type": "code",
   "execution_count": 23,
   "id": "37c38571-c776-469e-81ea-3a1fb24693cc",
   "metadata": {},
   "outputs": [
    {
     "data": {
      "text/plain": [
       "array([2, 1, 4, 3, 5, 6])"
      ]
     },
     "execution_count": 23,
     "metadata": {},
     "output_type": "execute_result"
    }
   ],
   "source": [
    "#Numpy içinden çağırıldığı için sort metodu ifademizin yapısı bozmadı\n",
    "v"
   ]
  },
  {
   "cell_type": "code",
   "execution_count": 24,
   "id": "bf905956-2224-4622-a8af-933a7e9ac1b9",
   "metadata": {},
   "outputs": [],
   "source": [
    "# Burada sort ifadesi yapıyı bozmuştur\n",
    "v.sort()"
   ]
  },
  {
   "cell_type": "code",
   "execution_count": 32,
   "id": "9085b107-de73-4a4d-b522-8f497df7f8b9",
   "metadata": {},
   "outputs": [
    {
     "data": {
      "text/plain": [
       "array([1, 2, 3, 4, 5, 6])"
      ]
     },
     "execution_count": 32,
     "metadata": {},
     "output_type": "execute_result"
    }
   ],
   "source": [
    "v"
   ]
  },
  {
   "cell_type": "code",
   "execution_count": 37,
   "id": "7a942449-80a3-46ee-b939-bf6afbddec3a",
   "metadata": {},
   "outputs": [],
   "source": [
    "# NumPy içinde .sort metodu çağrılırsa veri setini bozmadığı gözlenmiştir. \n",
    "# Eğer ayrı bir fonksiyon olarak çağırılırsa, (yeniden atama) komple değişiklik yaşanır."
   ]
  },
  {
   "cell_type": "code",
   "execution_count": 38,
   "id": "976c74e0-db0a-4c4f-8cf3-098614bd8547",
   "metadata": {},
   "outputs": [],
   "source": [
    "# İki boyutlu array sıralama"
   ]
  },
  {
   "cell_type": "code",
   "execution_count": 43,
   "id": "e5fae4ef-e574-4372-9a6b-b7282fd16900",
   "metadata": {},
   "outputs": [],
   "source": [
    "m = np.random.normal(20,5, (3,3))"
   ]
  },
  {
   "cell_type": "markdown",
   "id": "fcbec2f7-446a-487a-96ef-4130b5fb536d",
   "metadata": {},
   "source": [
    "m"
   ]
  },
  {
   "cell_type": "code",
   "execution_count": 26,
   "id": "1b662365-4ade-49e6-87f8-f417ce295782",
   "metadata": {},
   "outputs": [
    {
     "data": {
      "text/plain": [
       "array([[ 0,  1,  2,  3],\n",
       "       [ 4,  5,  6,  7],\n",
       "       [ 8,  9, 10, 11],\n",
       "       [12, 13, 14, 15]])"
      ]
     },
     "execution_count": 26,
     "metadata": {},
     "output_type": "execute_result"
    }
   ],
   "source": [
    "# Axis = 1 dediğimiz için vertical olarak (x ekseninde - yatayda küçükten büyüğe sıralanmıştır)\n",
    "np.sort(m, axis = 1)"
   ]
  },
  {
   "cell_type": "code",
   "execution_count": 25,
   "id": "de816074-9691-4c0a-bbfe-62b3da20b8da",
   "metadata": {},
   "outputs": [
    {
     "data": {
      "text/plain": [
       "array([[ 0,  1,  2,  3],\n",
       "       [ 4,  5,  6,  7],\n",
       "       [ 8,  9, 10, 11],\n",
       "       [12, 13, 14, 15]])"
      ]
     },
     "execution_count": 25,
     "metadata": {},
     "output_type": "execute_result"
    }
   ],
   "source": [
    "# Axis = 0 dediğimiz için horizontal olarak (y ekseninde - dikey küçükten büyüğe sıralanmıştır)\n",
    "np.sort(m, axis = 0)"
   ]
  },
  {
   "cell_type": "markdown",
   "id": "be3de90b-0547-4c08-ad0c-aaa0a9442605",
   "metadata": {},
   "source": [
    "# Index ile Elemanlara Erişmek"
   ]
  },
  {
   "cell_type": "code",
   "execution_count": 46,
   "id": "668c3adf-8879-411f-b1b3-ecbe65a049ed",
   "metadata": {},
   "outputs": [
    {
     "data": {
      "text/plain": [
       "array([1, 7, 0, 2, 2, 8, 7, 1, 7, 3])"
      ]
     },
     "execution_count": 46,
     "metadata": {},
     "output_type": "execute_result"
    }
   ],
   "source": [
    "import numpy as np\n",
    "a = np.random.randint(10, size = 10)\n",
    "a"
   ]
  },
  {
   "cell_type": "code",
   "execution_count": 47,
   "id": "f35a8ce4-c959-44a9-80aa-82f8b0d1c705",
   "metadata": {},
   "outputs": [
    {
     "data": {
      "text/plain": [
       "1"
      ]
     },
     "execution_count": 47,
     "metadata": {},
     "output_type": "execute_result"
    }
   ],
   "source": [
    "a[0]"
   ]
  },
  {
   "cell_type": "code",
   "execution_count": 48,
   "id": "0c553aa1-1f15-4261-9947-747fa60cc513",
   "metadata": {},
   "outputs": [
    {
     "data": {
      "text/plain": [
       "3"
      ]
     },
     "execution_count": 48,
     "metadata": {},
     "output_type": "execute_result"
    }
   ],
   "source": [
    "a[-1]"
   ]
  },
  {
   "cell_type": "code",
   "execution_count": 49,
   "id": "2588e699-7574-4dfa-adce-e3c6a9a32430",
   "metadata": {},
   "outputs": [],
   "source": [
    " a[0] = 41"
   ]
  },
  {
   "cell_type": "code",
   "execution_count": 50,
   "id": "0b55b0aa-1d2a-4e29-b462-32fc9d9366c3",
   "metadata": {},
   "outputs": [
    {
     "data": {
      "text/plain": [
       "array([41,  7,  0,  2,  2,  8,  7,  1,  7,  3])"
      ]
     },
     "execution_count": 50,
     "metadata": {},
     "output_type": "execute_result"
    }
   ],
   "source": [
    "a"
   ]
  },
  {
   "cell_type": "code",
   "execution_count": 51,
   "id": "dfe12511-9207-4b51-9b28-29910a2583c8",
   "metadata": {},
   "outputs": [],
   "source": [
    "#iki boyutlu array üzerinden elemana ulaşmak"
   ]
  },
  {
   "cell_type": "code",
   "execution_count": 27,
   "id": "55c647b9-22b0-4ccd-b5c2-5b542c2803c1",
   "metadata": {},
   "outputs": [
    {
     "data": {
      "text/plain": [
       "array([[6, 4, 2, 9, 4],\n",
       "       [3, 5, 9, 9, 7],\n",
       "       [3, 1, 6, 8, 5]])"
      ]
     },
     "execution_count": 27,
     "metadata": {},
     "output_type": "execute_result"
    }
   ],
   "source": [
    "# m = np.random.randint(10, size = 10) dersek bu şekilde tek boyutlu bir array oluşturmuş oluyoruz.\n",
    "\n",
    "m = np.random.randint(10, size = (3,5))\n",
    "m"
   ]
  },
  {
   "cell_type": "code",
   "execution_count": 54,
   "id": "536c0533-0130-4bce-917e-43cc0d1d0568",
   "metadata": {},
   "outputs": [
    {
     "data": {
      "text/plain": [
       "7"
      ]
     },
     "execution_count": 54,
     "metadata": {},
     "output_type": "execute_result"
    }
   ],
   "source": [
    "m[0,0]"
   ]
  },
  {
   "cell_type": "code",
   "execution_count": 55,
   "id": "cd1fb37c-4627-48c4-9cbd-bc5b72731433",
   "metadata": {},
   "outputs": [
    {
     "data": {
      "text/plain": [
       "4"
      ]
     },
     "execution_count": 55,
     "metadata": {},
     "output_type": "execute_result"
    }
   ],
   "source": [
    "m[1,1]"
   ]
  },
  {
   "cell_type": "code",
   "execution_count": 56,
   "id": "309fe237-b9a1-4fda-ab65-8530f391d4b5",
   "metadata": {},
   "outputs": [
    {
     "data": {
      "text/plain": [
       "8"
      ]
     },
     "execution_count": 56,
     "metadata": {},
     "output_type": "execute_result"
    }
   ],
   "source": [
    "m[2,3]"
   ]
  },
  {
   "cell_type": "code",
   "execution_count": 57,
   "id": "cf09ea9e-a9bf-4eda-b419-767232fa9a2b",
   "metadata": {},
   "outputs": [],
   "source": [
    "m[1,4] = 99"
   ]
  },
  {
   "cell_type": "code",
   "execution_count": 58,
   "id": "703155de-6274-4fa4-b409-538356d545e3",
   "metadata": {},
   "outputs": [
    {
     "data": {
      "text/plain": [
       "array([[ 7,  2,  9,  6,  4],\n",
       "       [ 9,  4,  9,  8, 99],\n",
       "       [ 1,  1,  8,  8,  5]])"
      ]
     },
     "execution_count": 58,
     "metadata": {},
     "output_type": "execute_result"
    }
   ],
   "source": [
    "m"
   ]
  },
  {
   "cell_type": "code",
   "execution_count": 59,
   "id": "bc3f911d-3433-43db-b373-8faf5e2f055e",
   "metadata": {},
   "outputs": [],
   "source": [
    "m[1,4] = 9.9"
   ]
  },
  {
   "cell_type": "code",
   "execution_count": 60,
   "id": "3a13fae3-782a-4868-a0c8-4db00353e1ba",
   "metadata": {},
   "outputs": [
    {
     "data": {
      "text/plain": [
       "array([[7, 2, 9, 6, 4],\n",
       "       [9, 4, 9, 8, 9],\n",
       "       [1, 1, 8, 8, 5]])"
      ]
     },
     "execution_count": 60,
     "metadata": {},
     "output_type": "execute_result"
    }
   ],
   "source": [
    "m"
   ]
  },
  {
   "cell_type": "code",
   "execution_count": 61,
   "id": "c12de2de-93a2-4084-926e-e88acb5b5129",
   "metadata": {},
   "outputs": [],
   "source": [
    "# oluşturma sırasında içerisinde 1 tane ondalık değer varsa tüm arrayin tipi ondalık olarak görülüyor.\n",
    "#en baştan oluşturma işlemi değil sonrasında eklenmeye çalışılıyorsa o zaman olmuyor."
   ]
  },
  {
   "cell_type": "markdown",
   "id": "3c8894bc-72ce-4f39-8eab-0c3956bdef39",
   "metadata": {},
   "source": [
    "# Slicing ile Elemanlara Erişmek (Array Alt Kümesine Erişmek)"
   ]
  },
  {
   "cell_type": "code",
   "execution_count": 62,
   "id": "915f90c4-4be5-47b2-afd9-3b4d0125a618",
   "metadata": {},
   "outputs": [],
   "source": [
    "import numpy as np"
   ]
  },
  {
   "cell_type": "code",
   "execution_count": 63,
   "id": "2214107a-22cd-45bf-9e8c-0e7b3b3570ff",
   "metadata": {},
   "outputs": [],
   "source": [
    "a = np.arange(20,30)"
   ]
  },
  {
   "cell_type": "code",
   "execution_count": 64,
   "id": "2f649863-2d61-4b92-b5bd-6378ef43faab",
   "metadata": {},
   "outputs": [
    {
     "data": {
      "text/plain": [
       "array([20, 21, 22, 23, 24, 25, 26, 27, 28, 29])"
      ]
     },
     "execution_count": 64,
     "metadata": {},
     "output_type": "execute_result"
    }
   ],
   "source": [
    "a"
   ]
  },
  {
   "cell_type": "code",
   "execution_count": 65,
   "id": "a15b2076-eb18-4182-9903-e4d2ea0648ab",
   "metadata": {},
   "outputs": [
    {
     "data": {
      "text/plain": [
       "array([20, 21, 22])"
      ]
     },
     "execution_count": 65,
     "metadata": {},
     "output_type": "execute_result"
    }
   ],
   "source": [
    "a[0:3]"
   ]
  },
  {
   "cell_type": "code",
   "execution_count": 66,
   "id": "f50bf924-7aba-4000-a512-e447b5947295",
   "metadata": {},
   "outputs": [
    {
     "data": {
      "text/plain": [
       "array([20, 21, 22])"
      ]
     },
     "execution_count": 66,
     "metadata": {},
     "output_type": "execute_result"
    }
   ],
   "source": [
    "a[:3]"
   ]
  },
  {
   "cell_type": "code",
   "execution_count": 67,
   "id": "c61b38ac-c97a-47d5-8956-5473ab5ea781",
   "metadata": {},
   "outputs": [
    {
     "data": {
      "text/plain": [
       "array([23, 24, 25, 26, 27, 28, 29])"
      ]
     },
     "execution_count": 67,
     "metadata": {},
     "output_type": "execute_result"
    }
   ],
   "source": [
    "a[3:]"
   ]
  },
  {
   "cell_type": "code",
   "execution_count": 68,
   "id": "6d884f8f-c705-4b76-b5cc-7f5b319d5766",
   "metadata": {},
   "outputs": [
    {
     "data": {
      "text/plain": [
       "array([21, 23, 25, 27, 29])"
      ]
     },
     "execution_count": 68,
     "metadata": {},
     "output_type": "execute_result"
    }
   ],
   "source": [
    "a[1::2]"
   ]
  },
  {
   "cell_type": "code",
   "execution_count": 69,
   "id": "341eefa8-a84a-4cf4-815f-31cc66f30e55",
   "metadata": {},
   "outputs": [
    {
     "data": {
      "text/plain": [
       "array([20, 22, 24, 26, 28])"
      ]
     },
     "execution_count": 69,
     "metadata": {},
     "output_type": "execute_result"
    }
   ],
   "source": [
    "a[::2]"
   ]
  },
  {
   "cell_type": "code",
   "execution_count": 70,
   "id": "3c890781-91c9-4c0d-a6dd-00cddaeed08d",
   "metadata": {},
   "outputs": [
    {
     "data": {
      "text/plain": [
       "array([20, 23, 26, 29])"
      ]
     },
     "execution_count": 70,
     "metadata": {},
     "output_type": "execute_result"
    }
   ],
   "source": [
    "a[0::3]"
   ]
  },
  {
   "cell_type": "code",
   "execution_count": 71,
   "id": "b0341e2b-0b6c-40b7-afd1-5eed3a64604e",
   "metadata": {},
   "outputs": [],
   "source": [
    "#iki boyutlu slice işlemleri"
   ]
  },
  {
   "cell_type": "code",
   "execution_count": 72,
   "id": "4a5fbb15-1053-4652-aba3-16675e44fff5",
   "metadata": {},
   "outputs": [],
   "source": [
    "m = np.random.randint(10, size = (5,5))"
   ]
  },
  {
   "cell_type": "code",
   "execution_count": 73,
   "id": "3fbd8a7f-71d3-4a0d-b3c0-c1482e5baa01",
   "metadata": {},
   "outputs": [
    {
     "data": {
      "text/plain": [
       "array([[7, 9, 5, 3, 5],\n",
       "       [0, 9, 7, 4, 5],\n",
       "       [1, 8, 5, 7, 0],\n",
       "       [6, 1, 5, 7, 2],\n",
       "       [4, 9, 4, 8, 8]])"
      ]
     },
     "execution_count": 73,
     "metadata": {},
     "output_type": "execute_result"
    }
   ],
   "source": [
    "m"
   ]
  },
  {
   "cell_type": "code",
   "execution_count": 74,
   "id": "054dd387-8a5a-48ee-9ba0-2a46c9f57320",
   "metadata": {},
   "outputs": [
    {
     "data": {
      "text/plain": [
       "array([7, 0, 1, 6, 4])"
      ]
     },
     "execution_count": 74,
     "metadata": {},
     "output_type": "execute_result"
    }
   ],
   "source": [
    "m[:,0]"
   ]
  },
  {
   "cell_type": "code",
   "execution_count": 75,
   "id": "2c1c316c-31af-4845-891c-71a6ac8f0dde",
   "metadata": {},
   "outputs": [
    {
     "data": {
      "text/plain": [
       "array([9, 9, 8, 1, 9])"
      ]
     },
     "execution_count": 75,
     "metadata": {},
     "output_type": "execute_result"
    }
   ],
   "source": [
    "m[:,1]"
   ]
  },
  {
   "cell_type": "code",
   "execution_count": 76,
   "id": "f643b95a-dbb8-4e6e-b297-7d084e471930",
   "metadata": {},
   "outputs": [
    {
     "data": {
      "text/plain": [
       "array([5, 5, 0, 2, 8])"
      ]
     },
     "execution_count": 76,
     "metadata": {},
     "output_type": "execute_result"
    }
   ],
   "source": [
    "m[:,4]"
   ]
  },
  {
   "cell_type": "code",
   "execution_count": 77,
   "id": "95e47b5a-f82d-4235-be7a-59114ca9df14",
   "metadata": {},
   "outputs": [
    {
     "data": {
      "text/plain": [
       "array([[7, 9, 5, 3, 5],\n",
       "       [0, 9, 7, 4, 5],\n",
       "       [1, 8, 5, 7, 0],\n",
       "       [6, 1, 5, 7, 2],\n",
       "       [4, 9, 4, 8, 8]])"
      ]
     },
     "execution_count": 77,
     "metadata": {},
     "output_type": "execute_result"
    }
   ],
   "source": [
    "m"
   ]
  },
  {
   "cell_type": "code",
   "execution_count": 78,
   "id": "d79f1b02-807a-4a5f-adc3-5b6611ba729e",
   "metadata": {},
   "outputs": [
    {
     "data": {
      "text/plain": [
       "array([7, 9, 5, 3, 5])"
      ]
     },
     "execution_count": 78,
     "metadata": {},
     "output_type": "execute_result"
    }
   ],
   "source": [
    "m[0,:]"
   ]
  },
  {
   "cell_type": "code",
   "execution_count": 83,
   "id": "21d18e75-f492-4f87-bcda-58c2ff31d634",
   "metadata": {},
   "outputs": [
    {
     "data": {
      "text/plain": [
       "array([0, 9, 7, 4, 5])"
      ]
     },
     "execution_count": 83,
     "metadata": {},
     "output_type": "execute_result"
    }
   ],
   "source": [
    "m[1,:]"
   ]
  },
  {
   "cell_type": "code",
   "execution_count": 84,
   "id": "35c4c47d-2ec6-431a-92b4-9434d49408e0",
   "metadata": {},
   "outputs": [
    {
     "data": {
      "text/plain": [
       "array([[7, 9, 5],\n",
       "       [0, 9, 7]])"
      ]
     },
     "execution_count": 84,
     "metadata": {},
     "output_type": "execute_result"
    }
   ],
   "source": [
    "m[0:2,0:3]"
   ]
  },
  {
   "cell_type": "code",
   "execution_count": 86,
   "id": "46d73305-6b34-4da5-8b16-140a14796778",
   "metadata": {},
   "outputs": [
    {
     "data": {
      "text/plain": [
       "array([[7, 9],\n",
       "       [0, 9],\n",
       "       [1, 8],\n",
       "       [6, 1],\n",
       "       [4, 9]])"
      ]
     },
     "execution_count": 86,
     "metadata": {},
     "output_type": "execute_result"
    }
   ],
   "source": [
    "m[:,:2]\n",
    "#tüm satırları al , 0 dan başlayıp 2.sütüna kadar al"
   ]
  },
  {
   "cell_type": "code",
   "execution_count": 88,
   "id": "f3188509-7525-4ca1-b34b-56f894a7b657",
   "metadata": {},
   "outputs": [
    {
     "data": {
      "text/plain": [
       "array([[7, 9, 5, 3, 5],\n",
       "       [0, 9, 7, 4, 5],\n",
       "       [1, 8, 5, 7, 0],\n",
       "       [6, 1, 5, 7, 2],\n",
       "       [4, 9, 4, 8, 8]])"
      ]
     },
     "execution_count": 88,
     "metadata": {},
     "output_type": "execute_result"
    }
   ],
   "source": [
    "m"
   ]
  },
  {
   "cell_type": "code",
   "execution_count": 87,
   "id": "8f692531-f271-4454-916a-a73717babc20",
   "metadata": {},
   "outputs": [
    {
     "data": {
      "text/plain": [
       "array([[0, 9],\n",
       "       [1, 8]])"
      ]
     },
     "execution_count": 87,
     "metadata": {},
     "output_type": "execute_result"
    }
   ],
   "source": [
    "m[1:3,:2]"
   ]
  },
  {
   "cell_type": "code",
   "execution_count": 90,
   "id": "74c3c37f-caa1-4f61-a7a0-9eb5e2821e79",
   "metadata": {},
   "outputs": [
    {
     "data": {
      "text/plain": [
       "array([[1, 4, 7, 5, 8],\n",
       "       [7, 4, 5, 0, 7],\n",
       "       [5, 0, 6, 5, 4],\n",
       "       [9, 2, 5, 4, 4],\n",
       "       [2, 8, 5, 9, 3]])"
      ]
     },
     "execution_count": 90,
     "metadata": {},
     "output_type": "execute_result"
    }
   ],
   "source": [
    "import numpy as np\n",
    "a = np.random.randint(10 , size = (5,5))\n",
    "a"
   ]
  },
  {
   "cell_type": "code",
   "execution_count": 92,
   "id": "34aaf34c-03b9-44ea-830f-36115707c35a",
   "metadata": {},
   "outputs": [
    {
     "data": {
      "text/plain": [
       "array([[1, 4],\n",
       "       [7, 4],\n",
       "       [5, 0]])"
      ]
     },
     "execution_count": 92,
     "metadata": {},
     "output_type": "execute_result"
    }
   ],
   "source": [
    "alt_a = a[0:3, 0:2]\n",
    "alt_a"
   ]
  },
  {
   "cell_type": "code",
   "execution_count": 97,
   "id": "17fe556d-7628-48bd-9218-9f113a081635",
   "metadata": {},
   "outputs": [],
   "source": [
    "alt_a[0,0] = 99\n",
    "alt_a[1,1] = 88"
   ]
  },
  {
   "cell_type": "code",
   "execution_count": 98,
   "id": "cf44c41a-119a-4fbb-9bab-00f0e2cdabe0",
   "metadata": {},
   "outputs": [
    {
     "data": {
      "text/plain": [
       "array([[99,  4],\n",
       "       [ 7, 88],\n",
       "       [ 5,  0]])"
      ]
     },
     "execution_count": 98,
     "metadata": {},
     "output_type": "execute_result"
    }
   ],
   "source": [
    "alt_a"
   ]
  },
  {
   "cell_type": "code",
   "execution_count": 99,
   "id": "f2e997f1-170e-4fcc-abf1-19b6639cb7b5",
   "metadata": {},
   "outputs": [
    {
     "data": {
      "text/plain": [
       "array([[99,  4,  7,  5,  8],\n",
       "       [ 7, 88,  5,  0,  7],\n",
       "       [ 5,  0,  6,  5,  4],\n",
       "       [ 9,  2,  5,  4,  4],\n",
       "       [ 2,  8,  5,  9,  3]])"
      ]
     },
     "execution_count": 99,
     "metadata": {},
     "output_type": "execute_result"
    }
   ],
   "source": [
    "a"
   ]
  },
  {
   "cell_type": "code",
   "execution_count": 105,
   "id": "1a99c281-2822-43a1-bea6-7a44c06bb854",
   "metadata": {},
   "outputs": [
    {
     "data": {
      "text/plain": [
       "array([[1, 3, 3, 2, 1],\n",
       "       [4, 6, 6, 6, 0],\n",
       "       [6, 8, 0, 7, 0],\n",
       "       [1, 0, 7, 4, 8],\n",
       "       [0, 8, 8, 1, 8]])"
      ]
     },
     "execution_count": 105,
     "metadata": {},
     "output_type": "execute_result"
    }
   ],
   "source": [
    "m = np.random.randint(10, size =(5,5))\n",
    "m"
   ]
  },
  {
   "cell_type": "code",
   "execution_count": 106,
   "id": "66a3bdfb-574e-4df5-843b-36b3e96146b9",
   "metadata": {},
   "outputs": [
    {
     "data": {
      "text/plain": [
       "array([[1, 3],\n",
       "       [4, 6],\n",
       "       [6, 8]])"
      ]
     },
     "execution_count": 106,
     "metadata": {},
     "output_type": "execute_result"
    }
   ],
   "source": [
    "alt_b = m[0:3,0:2].copy()\n",
    "alt_b"
   ]
  },
  {
   "cell_type": "code",
   "execution_count": 107,
   "id": "aa028e6a-ce56-4eaf-bda8-f79028950f7c",
   "metadata": {},
   "outputs": [],
   "source": [
    "alt_b[0,0] = 999"
   ]
  },
  {
   "cell_type": "code",
   "execution_count": 108,
   "id": "a43b6a6b-7710-4d03-8ef7-0ffe89bec7c6",
   "metadata": {},
   "outputs": [
    {
     "data": {
      "text/plain": [
       "array([[999,   3],\n",
       "       [  4,   6],\n",
       "       [  6,   8]])"
      ]
     },
     "execution_count": 108,
     "metadata": {},
     "output_type": "execute_result"
    }
   ],
   "source": [
    "alt_b"
   ]
  },
  {
   "cell_type": "code",
   "execution_count": 109,
   "id": "a0eb73f5-bff3-4503-a136-4c675f985fb7",
   "metadata": {},
   "outputs": [
    {
     "data": {
      "text/plain": [
       "array([[1, 3, 3, 2, 1],\n",
       "       [4, 6, 6, 6, 0],\n",
       "       [6, 8, 0, 7, 0],\n",
       "       [1, 0, 7, 4, 8],\n",
       "       [0, 8, 8, 1, 8]])"
      ]
     },
     "execution_count": 109,
     "metadata": {},
     "output_type": "execute_result"
    }
   ],
   "source": [
    "m"
   ]
  },
  {
   "cell_type": "markdown",
   "id": "a315291f-5759-45ff-8b4d-b358dffa4edf",
   "metadata": {},
   "source": [
    "# Fancy Index ile Elemanlara Erişmek"
   ]
  },
  {
   "cell_type": "code",
   "execution_count": 110,
   "id": "b3fa4286-57d6-4ce7-a3f4-12dfb7847942",
   "metadata": {},
   "outputs": [
    {
     "data": {
      "text/plain": [
       "array([ 0,  3,  6,  9, 12, 15, 18, 21, 24, 27])"
      ]
     },
     "execution_count": 110,
     "metadata": {},
     "output_type": "execute_result"
    }
   ],
   "source": [
    "import numpy as np\n",
    "v = np.arange(0,30,3)\n",
    "v"
   ]
  },
  {
   "cell_type": "code",
   "execution_count": 115,
   "id": "b4a7a50c-a74f-42bf-92dd-ac0b623795eb",
   "metadata": {},
   "outputs": [
    {
     "data": {
      "text/plain": [
       "3"
      ]
     },
     "execution_count": 115,
     "metadata": {},
     "output_type": "execute_result"
    }
   ],
   "source": [
    "v[1]"
   ]
  },
  {
   "cell_type": "code",
   "execution_count": 116,
   "id": "c3b9d2c9-1699-4ced-8263-8747f3c8dbcf",
   "metadata": {},
   "outputs": [
    {
     "data": {
      "text/plain": [
       "[3, 12, 15]"
      ]
     },
     "execution_count": 116,
     "metadata": {},
     "output_type": "execute_result"
    }
   ],
   "source": [
    "[v[1], v[4],v[5]]"
   ]
  },
  {
   "cell_type": "code",
   "execution_count": 118,
   "id": "cca9ed13-ad1f-4603-b723-42b25da045ae",
   "metadata": {},
   "outputs": [],
   "source": [
    "al_getir = [1,3,5,7]"
   ]
  },
  {
   "cell_type": "code",
   "execution_count": 119,
   "id": "2a8ee046-51ed-4334-bbc0-e7c8487acdfd",
   "metadata": {},
   "outputs": [
    {
     "data": {
      "text/plain": [
       "array([ 0,  3,  6,  9, 12, 15, 18, 21, 24, 27])"
      ]
     },
     "execution_count": 119,
     "metadata": {},
     "output_type": "execute_result"
    }
   ],
   "source": [
    "v"
   ]
  },
  {
   "cell_type": "code",
   "execution_count": 120,
   "id": "5e303c09-ce5b-4c28-b269-8bcf02ea766b",
   "metadata": {},
   "outputs": [
    {
     "data": {
      "text/plain": [
       "array([ 3,  9, 15, 21])"
      ]
     },
     "execution_count": 120,
     "metadata": {},
     "output_type": "execute_result"
    }
   ],
   "source": [
    "v[al_getir]"
   ]
  },
  {
   "cell_type": "code",
   "execution_count": 121,
   "id": "1ddd84bd-e7a9-4221-825f-3ad1d806611b",
   "metadata": {},
   "outputs": [],
   "source": [
    "#iki boyutta fancy"
   ]
  },
  {
   "cell_type": "code",
   "execution_count": 122,
   "id": "764415e8-125c-49a0-a880-fa06c6dabb87",
   "metadata": {},
   "outputs": [],
   "source": [
    "m = np.arange(9).reshape((3,3))"
   ]
  },
  {
   "cell_type": "code",
   "execution_count": 123,
   "id": "e3071189-c136-4d3c-bdc8-908b01a4733b",
   "metadata": {},
   "outputs": [
    {
     "data": {
      "text/plain": [
       "array([[0, 1, 2],\n",
       "       [3, 4, 5],\n",
       "       [6, 7, 8]])"
      ]
     },
     "execution_count": 123,
     "metadata": {},
     "output_type": "execute_result"
    }
   ],
   "source": [
    "m"
   ]
  },
  {
   "cell_type": "code",
   "execution_count": 128,
   "id": "b252d9a5-21b8-48fd-93a5-d7100e1afea6",
   "metadata": {},
   "outputs": [
    {
     "data": {
      "text/plain": [
       "array([1, 2])"
      ]
     },
     "execution_count": 128,
     "metadata": {},
     "output_type": "execute_result"
    }
   ],
   "source": [
    "satir = np.array([0,1])\n",
    "sutun = np.array([1,2])"
   ]
  },
  {
   "cell_type": "code",
   "execution_count": 127,
   "id": "bd97551c-060b-4378-bf33-dfb0a34021a3",
   "metadata": {},
   "outputs": [
    {
     "data": {
      "text/plain": [
       "array([1, 5])"
      ]
     },
     "execution_count": 127,
     "metadata": {},
     "output_type": "execute_result"
    }
   ],
   "source": [
    "m[satir , sutun]"
   ]
  },
  {
   "cell_type": "code",
   "execution_count": 129,
   "id": "b0439ded-5cb9-49c8-86b1-7e637e3e1747",
   "metadata": {},
   "outputs": [],
   "source": [
    "#basit index ile fancy index"
   ]
  },
  {
   "cell_type": "code",
   "execution_count": 130,
   "id": "fbf0dc1c-e553-4e52-8e2b-c7ce9da08515",
   "metadata": {},
   "outputs": [
    {
     "data": {
      "text/plain": [
       "array([[0, 1, 2],\n",
       "       [3, 4, 5],\n",
       "       [6, 7, 8]])"
      ]
     },
     "execution_count": 130,
     "metadata": {},
     "output_type": "execute_result"
    }
   ],
   "source": [
    "m"
   ]
  },
  {
   "cell_type": "code",
   "execution_count": 143,
   "id": "9d54ecce-50e9-42f3-9f4b-aa0d0c18f70f",
   "metadata": {},
   "outputs": [
    {
     "data": {
      "text/plain": [
       "array([1, 2])"
      ]
     },
     "execution_count": 143,
     "metadata": {},
     "output_type": "execute_result"
    }
   ],
   "source": [
    "m[0,[1,2]]"
   ]
  },
  {
   "cell_type": "code",
   "execution_count": 146,
   "id": "12aac56c-29b4-463e-bc97-c33b090a5f67",
   "metadata": {},
   "outputs": [],
   "source": [
    "#slice ile fancy"
   ]
  },
  {
   "cell_type": "code",
   "execution_count": 147,
   "id": "04f4cd78-666b-4510-ad4a-8972d8e9cccd",
   "metadata": {},
   "outputs": [
    {
     "data": {
      "text/plain": [
       "array([[1, 2],\n",
       "       [4, 5],\n",
       "       [7, 8]])"
      ]
     },
     "execution_count": 147,
     "metadata": {},
     "output_type": "execute_result"
    }
   ],
   "source": [
    "m[0:, [1,2]]"
   ]
  },
  {
   "cell_type": "markdown",
   "id": "dd9f28b2-4564-4db9-bb74-b1ad9fe5c492",
   "metadata": {},
   "source": [
    "# Koşullu Eleman İşlemleri"
   ]
  },
  {
   "cell_type": "code",
   "execution_count": 150,
   "id": "243b6c9b-e513-4d15-90f0-501dab103c4d",
   "metadata": {},
   "outputs": [],
   "source": [
    "import numpy as np\n",
    "v = np.array([1,2,3,4,5,6])"
   ]
  },
  {
   "cell_type": "code",
   "execution_count": 153,
   "id": "e47d3f1a-a5e8-43c1-8ad6-d26b3f60bc1c",
   "metadata": {},
   "outputs": [
    {
     "data": {
      "text/plain": [
       "array([ True,  True,  True,  True, False, False])"
      ]
     },
     "execution_count": 153,
     "metadata": {},
     "output_type": "execute_result"
    }
   ],
   "source": [
    "v < 5"
   ]
  },
  {
   "cell_type": "code",
   "execution_count": 155,
   "id": "5f79981a-1d58-4f11-85f2-ba547126089f",
   "metadata": {},
   "outputs": [
    {
     "data": {
      "text/plain": [
       "array([1, 2, 3, 4])"
      ]
     },
     "execution_count": 155,
     "metadata": {},
     "output_type": "execute_result"
    }
   ],
   "source": [
    "v[v < 5]"
   ]
  },
  {
   "cell_type": "code",
   "execution_count": 156,
   "id": "13c2018c-bd48-4cd2-9e34-522d496e12e3",
   "metadata": {},
   "outputs": [
    {
     "data": {
      "text/plain": [
       "array([6])"
      ]
     },
     "execution_count": 156,
     "metadata": {},
     "output_type": "execute_result"
    }
   ],
   "source": [
    "v[v > 5]"
   ]
  },
  {
   "cell_type": "code",
   "execution_count": 157,
   "id": "b9408bcc-4cc0-48cf-8eb2-984fb5a09687",
   "metadata": {},
   "outputs": [
    {
     "data": {
      "text/plain": [
       "array([5])"
      ]
     },
     "execution_count": 157,
     "metadata": {},
     "output_type": "execute_result"
    }
   ],
   "source": [
    "v[v == 5]"
   ]
  },
  {
   "cell_type": "code",
   "execution_count": 159,
   "id": "df06fd13-f83c-4b3a-999a-d237b870f0c2",
   "metadata": {},
   "outputs": [
    {
     "data": {
      "text/plain": [
       "array([1, 2, 3, 4, 5])"
      ]
     },
     "execution_count": 159,
     "metadata": {},
     "output_type": "execute_result"
    }
   ],
   "source": [
    "v[v <= 5]"
   ]
  },
  {
   "cell_type": "code",
   "execution_count": 160,
   "id": "7a0194cc-0259-43eb-92d0-206ca5623eb7",
   "metadata": {},
   "outputs": [
    {
     "data": {
      "text/plain": [
       "array([5, 6])"
      ]
     },
     "execution_count": 160,
     "metadata": {},
     "output_type": "execute_result"
    }
   ],
   "source": [
    "v[v >= 5]"
   ]
  },
  {
   "cell_type": "code",
   "execution_count": 161,
   "id": "fa57f8b5-48e7-457e-9d97-2cb6bd0b47ab",
   "metadata": {},
   "outputs": [
    {
     "data": {
      "text/plain": [
       "array([1, 2, 3, 4, 6])"
      ]
     },
     "execution_count": 161,
     "metadata": {},
     "output_type": "execute_result"
    }
   ],
   "source": [
    "v[v != 5]"
   ]
  },
  {
   "cell_type": "code",
   "execution_count": 162,
   "id": "24a43c1c-a335-44e4-991f-c183982671a9",
   "metadata": {},
   "outputs": [
    {
     "data": {
      "text/plain": [
       "array([ 2,  4,  6,  8, 10, 12])"
      ]
     },
     "execution_count": 162,
     "metadata": {},
     "output_type": "execute_result"
    }
   ],
   "source": [
    "v * 2"
   ]
  },
  {
   "cell_type": "code",
   "execution_count": 163,
   "id": "a45bc5fa-d316-418a-993e-6e72465f5b6e",
   "metadata": {},
   "outputs": [
    {
     "data": {
      "text/plain": [
       "array([0.2, 0.4, 0.6, 0.8, 1. , 1.2])"
      ]
     },
     "execution_count": 163,
     "metadata": {},
     "output_type": "execute_result"
    }
   ],
   "source": [
    "v / 5"
   ]
  },
  {
   "cell_type": "code",
   "execution_count": 164,
   "id": "67e54a25-acd9-4d5c-afdc-133706331e32",
   "metadata": {},
   "outputs": [
    {
     "data": {
      "text/plain": [
       "array([0.5, 1. , 1.5, 2. , 2.5, 3. ])"
      ]
     },
     "execution_count": 164,
     "metadata": {},
     "output_type": "execute_result"
    }
   ],
   "source": [
    "v * 5 / 10"
   ]
  },
  {
   "cell_type": "code",
   "execution_count": 166,
   "id": "db5d698d-a013-42f4-8ce6-d3e37265d479",
   "metadata": {},
   "outputs": [
    {
     "data": {
      "text/plain": [
       "array([ 1,  4,  9, 16, 25, 36])"
      ]
     },
     "execution_count": 166,
     "metadata": {},
     "output_type": "execute_result"
    }
   ],
   "source": [
    "v ** 2\n",
    "#kare alma "
   ]
  },
  {
   "cell_type": "markdown",
   "id": "23331779-8b60-4a0b-a632-cec507b4e41e",
   "metadata": {},
   "source": [
    "# Matematiksel İşlemler"
   ]
  },
  {
   "cell_type": "code",
   "execution_count": 167,
   "id": "0b890bee-1e61-4ffa-8e2b-c101faa9ef7e",
   "metadata": {},
   "outputs": [
    {
     "data": {
      "text/plain": [
       "array([0, 1, 2, 3, 4, 5])"
      ]
     },
     "execution_count": 167,
     "metadata": {},
     "output_type": "execute_result"
    }
   ],
   "source": [
    "v - 1"
   ]
  },
  {
   "cell_type": "code",
   "execution_count": 168,
   "id": "0e0a5fd5-ade1-4558-b919-468d4cfbcab6",
   "metadata": {},
   "outputs": [
    {
     "data": {
      "text/plain": [
       "array([ 5, 10, 15, 20, 25, 30])"
      ]
     },
     "execution_count": 168,
     "metadata": {},
     "output_type": "execute_result"
    }
   ],
   "source": [
    "v * 5 "
   ]
  },
  {
   "cell_type": "code",
   "execution_count": 169,
   "id": "780d1032-fdf1-4102-bb3e-6183c8637640",
   "metadata": {},
   "outputs": [
    {
     "data": {
      "text/plain": [
       "array([0.2, 0.4, 0.6, 0.8, 1. , 1.2])"
      ]
     },
     "execution_count": 169,
     "metadata": {},
     "output_type": "execute_result"
    }
   ],
   "source": [
    "v / 5 "
   ]
  },
  {
   "cell_type": "code",
   "execution_count": 173,
   "id": "9795d5c5-2db7-4cb5-bb46-c54bbcbdaef8",
   "metadata": {},
   "outputs": [
    {
     "data": {
      "text/plain": [
       "array([1, 2, 3, 4, 5, 6])"
      ]
     },
     "execution_count": 173,
     "metadata": {},
     "output_type": "execute_result"
    }
   ],
   "source": [
    "v"
   ]
  },
  {
   "cell_type": "code",
   "execution_count": 170,
   "id": "586d1ca8-14fd-4667-bef7-121f3b4868b9",
   "metadata": {},
   "outputs": [],
   "source": [
    "#ufunc"
   ]
  },
  {
   "cell_type": "code",
   "execution_count": 171,
   "id": "1e971482-a649-4844-99d2-7f8dac541016",
   "metadata": {},
   "outputs": [
    {
     "data": {
      "text/plain": [
       "array([0, 1, 2, 3, 4, 5])"
      ]
     },
     "execution_count": 171,
     "metadata": {},
     "output_type": "execute_result"
    }
   ],
   "source": [
    "np.subtract(v,1)"
   ]
  },
  {
   "cell_type": "code",
   "execution_count": 172,
   "id": "1213acc1-9edf-49b8-8cb6-568c38437ef4",
   "metadata": {},
   "outputs": [
    {
     "data": {
      "text/plain": [
       "array([2, 3, 4, 5, 6, 7])"
      ]
     },
     "execution_count": 172,
     "metadata": {},
     "output_type": "execute_result"
    }
   ],
   "source": [
    "np.add(v,1)"
   ]
  },
  {
   "cell_type": "code",
   "execution_count": 174,
   "id": "5ad187c7-5588-46af-998f-59bcfd8d3604",
   "metadata": {},
   "outputs": [
    {
     "data": {
      "text/plain": [
       "array([ 5, 10, 15, 20, 25, 30])"
      ]
     },
     "execution_count": 174,
     "metadata": {},
     "output_type": "execute_result"
    }
   ],
   "source": [
    "np.multiply(v,5)"
   ]
  },
  {
   "cell_type": "code",
   "execution_count": 175,
   "id": "6c0e4298-f505-48b7-a320-e76c1449b1bd",
   "metadata": {},
   "outputs": [
    {
     "data": {
      "text/plain": [
       "array([0.5, 1. , 1.5, 2. , 2.5, 3. ])"
      ]
     },
     "execution_count": 175,
     "metadata": {},
     "output_type": "execute_result"
    }
   ],
   "source": [
    "np.divide(v, 2)"
   ]
  },
  {
   "cell_type": "code",
   "execution_count": 176,
   "id": "277a8494-60ae-42eb-9a40-ace6b077bde3",
   "metadata": {},
   "outputs": [
    {
     "data": {
      "text/plain": [
       "array([  1,   8,  27,  64, 125, 216])"
      ]
     },
     "execution_count": 176,
     "metadata": {},
     "output_type": "execute_result"
    }
   ],
   "source": [
    "np.power(v,3)"
   ]
  },
  {
   "cell_type": "code",
   "execution_count": 178,
   "id": "b3906b72-18c9-4077-9689-cd17ab819aaa",
   "metadata": {},
   "outputs": [
    {
     "data": {
      "text/plain": [
       "array([1, 0, 1, 0, 1, 0])"
      ]
     },
     "execution_count": 178,
     "metadata": {},
     "output_type": "execute_result"
    }
   ],
   "source": [
    "v % 2\n",
    "np.mod(v,2)"
   ]
  },
  {
   "cell_type": "code",
   "execution_count": 179,
   "id": "7a596734-b9b9-40dc-a159-8689aa4f3321",
   "metadata": {},
   "outputs": [
    {
     "data": {
      "text/plain": [
       "array([[4]])"
      ]
     },
     "execution_count": 179,
     "metadata": {},
     "output_type": "execute_result"
    }
   ],
   "source": [
    "np.absolute([np.array([-4])])"
   ]
  },
  {
   "cell_type": "code",
   "execution_count": 180,
   "id": "8aefb0f7-5c49-4d2e-a5ea-375477485806",
   "metadata": {},
   "outputs": [
    {
     "data": {
      "text/plain": [
       "-0.8011526357338306"
      ]
     },
     "execution_count": 180,
     "metadata": {},
     "output_type": "execute_result"
    }
   ],
   "source": [
    "np.sin(180)"
   ]
  },
  {
   "cell_type": "code",
   "execution_count": 181,
   "id": "d4b64b23-c888-4b00-ad16-02369a840d50",
   "metadata": {},
   "outputs": [
    {
     "data": {
      "text/plain": [
       "0.9843819506325049"
      ]
     },
     "execution_count": 181,
     "metadata": {},
     "output_type": "execute_result"
    }
   ],
   "source": [
    "np.cos(270)"
   ]
  },
  {
   "cell_type": "code",
   "execution_count": 182,
   "id": "7addb82b-eab1-457f-b8d2-443754e1b395",
   "metadata": {},
   "outputs": [],
   "source": [
    "v = np.array([1,2,3])"
   ]
  },
  {
   "cell_type": "code",
   "execution_count": 183,
   "id": "9e0edee8-dabf-4795-8bf4-015dbc0c26f8",
   "metadata": {},
   "outputs": [
    {
     "data": {
      "text/plain": [
       "array([0.        , 0.69314718, 1.09861229])"
      ]
     },
     "execution_count": 183,
     "metadata": {},
     "output_type": "execute_result"
    }
   ],
   "source": [
    "np.log(v)"
   ]
  },
  {
   "cell_type": "code",
   "execution_count": 184,
   "id": "dff928ce-ec66-4f79-8b52-18ab00dbeb76",
   "metadata": {},
   "outputs": [
    {
     "data": {
      "text/plain": [
       "array([0.       , 1.       , 1.5849625])"
      ]
     },
     "execution_count": 184,
     "metadata": {},
     "output_type": "execute_result"
    }
   ],
   "source": [
    "np.log2(v)"
   ]
  },
  {
   "cell_type": "code",
   "execution_count": 185,
   "id": "1318890a-64cf-42fe-959e-9197bbec0ae0",
   "metadata": {},
   "outputs": [
    {
     "data": {
      "text/plain": [
       "array([0.        , 0.30103   , 0.47712125])"
      ]
     },
     "execution_count": 185,
     "metadata": {},
     "output_type": "execute_result"
    }
   ],
   "source": [
    "np.log10(v)"
   ]
  },
  {
   "cell_type": "code",
   "execution_count": 186,
   "id": "92496e16-c9a3-4b73-8972-dc781e1a4648",
   "metadata": {},
   "outputs": [
    {
     "data": {
      "text/plain": [
       "\u001b[0;31mType:\u001b[0m        module\n",
       "\u001b[0;31mString form:\u001b[0m <module 'numpy' from '/Users/yusufbayindir/opt/anaconda3/lib/python3.8/site-packages/numpy/__init__.py'>\n",
       "\u001b[0;31mFile:\u001b[0m        ~/opt/anaconda3/lib/python3.8/site-packages/numpy/__init__.py\n",
       "\u001b[0;31mDocstring:\u001b[0m  \n",
       "NumPy\n",
       "=====\n",
       "\n",
       "Provides\n",
       "  1. An array object of arbitrary homogeneous items\n",
       "  2. Fast mathematical operations over arrays\n",
       "  3. Linear Algebra, Fourier Transforms, Random Number Generation\n",
       "\n",
       "How to use the documentation\n",
       "----------------------------\n",
       "Documentation is available in two forms: docstrings provided\n",
       "with the code, and a loose standing reference guide, available from\n",
       "`the NumPy homepage <https://www.scipy.org>`_.\n",
       "\n",
       "We recommend exploring the docstrings using\n",
       "`IPython <https://ipython.org>`_, an advanced Python shell with\n",
       "TAB-completion and introspection capabilities.  See below for further\n",
       "instructions.\n",
       "\n",
       "The docstring examples assume that `numpy` has been imported as `np`::\n",
       "\n",
       "  >>> import numpy as np\n",
       "\n",
       "Code snippets are indicated by three greater-than signs::\n",
       "\n",
       "  >>> x = 42\n",
       "  >>> x = x + 1\n",
       "\n",
       "Use the built-in ``help`` function to view a function's docstring::\n",
       "\n",
       "  >>> help(np.sort)\n",
       "  ... # doctest: +SKIP\n",
       "\n",
       "For some objects, ``np.info(obj)`` may provide additional help.  This is\n",
       "particularly true if you see the line \"Help on ufunc object:\" at the top\n",
       "of the help() page.  Ufuncs are implemented in C, not Python, for speed.\n",
       "The native Python help() does not know how to view their help, but our\n",
       "np.info() function does.\n",
       "\n",
       "To search for documents containing a keyword, do::\n",
       "\n",
       "  >>> np.lookfor('keyword')\n",
       "  ... # doctest: +SKIP\n",
       "\n",
       "General-purpose documents like a glossary and help on the basic concepts\n",
       "of numpy are available under the ``doc`` sub-module::\n",
       "\n",
       "  >>> from numpy import doc\n",
       "  >>> help(doc)\n",
       "  ... # doctest: +SKIP\n",
       "\n",
       "Available subpackages\n",
       "---------------------\n",
       "doc\n",
       "    Topical documentation on broadcasting, indexing, etc.\n",
       "lib\n",
       "    Basic functions used by several sub-packages.\n",
       "random\n",
       "    Core Random Tools\n",
       "linalg\n",
       "    Core Linear Algebra Tools\n",
       "fft\n",
       "    Core FFT routines\n",
       "polynomial\n",
       "    Polynomial tools\n",
       "testing\n",
       "    NumPy testing tools\n",
       "f2py\n",
       "    Fortran to Python Interface Generator.\n",
       "distutils\n",
       "    Enhancements to distutils with support for\n",
       "    Fortran compilers support and more.\n",
       "\n",
       "Utilities\n",
       "---------\n",
       "test\n",
       "    Run numpy unittests\n",
       "show_config\n",
       "    Show numpy build configuration\n",
       "dual\n",
       "    Overwrite certain functions with high-performance SciPy tools.\n",
       "    Note: `numpy.dual` is deprecated.  Use the functions from NumPy or Scipy\n",
       "    directly instead of importing them from `numpy.dual`.\n",
       "matlib\n",
       "    Make everything matrices.\n",
       "__version__\n",
       "    NumPy version string\n",
       "\n",
       "Viewing documentation using IPython\n",
       "-----------------------------------\n",
       "Start IPython with the NumPy profile (``ipython -p numpy``), which will\n",
       "import `numpy` under the alias `np`.  Then, use the ``cpaste`` command to\n",
       "paste examples into the shell.  To see which functions are available in\n",
       "`numpy`, type ``np.<TAB>`` (where ``<TAB>`` refers to the TAB key), or use\n",
       "``np.*cos*?<ENTER>`` (where ``<ENTER>`` refers to the ENTER key) to narrow\n",
       "down the list.  To view the docstring for a function, use\n",
       "``np.cos?<ENTER>`` (to view the docstring) and ``np.cos??<ENTER>`` (to view\n",
       "the source code).\n",
       "\n",
       "Copies vs. in-place operation\n",
       "-----------------------------\n",
       "Most of the functions in `numpy` return a copy of the array argument\n",
       "(e.g., `np.sort`).  In-place versions of these functions are often\n",
       "available as array methods, i.e. ``x = np.array([1,2,3]); x.sort()``.\n",
       "Exceptions to this rule are documented.\n"
      ]
     },
     "metadata": {},
     "output_type": "display_data"
    }
   ],
   "source": [
    "?np"
   ]
  },
  {
   "cell_type": "code",
   "execution_count": 207,
   "id": "0fde53a2-f70b-4aed-8d1f-d0f0b1b1072f",
   "metadata": {},
   "outputs": [],
   "source": [
    "#Cheatsheet kullanmayı ve google ile bilmediğimizi araştırmayı öğrenmeliyiz."
   ]
  },
  {
   "cell_type": "markdown",
   "id": "54bc639c-c7d2-4c9c-8572-76afb58411c6",
   "metadata": {},
   "source": [
    "# NumPy ile iki bilinmeyenli Denklem çözümü"
   ]
  },
  {
   "cell_type": "code",
   "execution_count": 208,
   "id": "4aa69abd-3510-4d2d-bf38-bb0ca5882b97",
   "metadata": {},
   "outputs": [],
   "source": [
    "import numpy as np"
   ]
  },
  {
   "cell_type": "markdown",
   "id": "19823942-3154-4dd6-9c87-b9a943783fdf",
   "metadata": {},
   "source": [
    "5 * x0 + x1 = 12\n",
    "\n",
    "x0 + 3*x1 =10"
   ]
  },
  {
   "cell_type": "code",
   "execution_count": 211,
   "id": "8798b5d0-0bb7-4fcb-a285-76efcc69c027",
   "metadata": {},
   "outputs": [],
   "source": [
    "a = np.array([[5,1] , [1,3]])\n",
    "b = np.array([12,10])"
   ]
  },
  {
   "cell_type": "code",
   "execution_count": 212,
   "id": "7e4f5912-ec74-46a4-a0b7-ae2bd3a5ced5",
   "metadata": {},
   "outputs": [
    {
     "data": {
      "text/plain": [
       "array([[5, 1],\n",
       "       [1, 3]])"
      ]
     },
     "execution_count": 212,
     "metadata": {},
     "output_type": "execute_result"
    }
   ],
   "source": [
    "a"
   ]
  },
  {
   "cell_type": "code",
   "execution_count": 213,
   "id": "10d29639-519b-45e5-b527-b929a4def76a",
   "metadata": {},
   "outputs": [
    {
     "data": {
      "text/plain": [
       "array([12, 10])"
      ]
     },
     "execution_count": 213,
     "metadata": {},
     "output_type": "execute_result"
    }
   ],
   "source": [
    "b"
   ]
  },
  {
   "cell_type": "code",
   "execution_count": 215,
   "id": "4be4c7d9-1198-44b1-af81-285ad3f9a2a0",
   "metadata": {},
   "outputs": [
    {
     "data": {
      "text/plain": [
       "array([1.85714286, 2.71428571])"
      ]
     },
     "execution_count": 215,
     "metadata": {},
     "output_type": "execute_result"
    }
   ],
   "source": [
    "x = np.linalg.solve(a,b)\n",
    "x"
   ]
  }
 ],
 "metadata": {
  "kernelspec": {
   "display_name": "Python 3",
   "language": "python",
   "name": "python3"
  },
  "language_info": {
   "codemirror_mode": {
    "name": "ipython",
    "version": 3
   },
   "file_extension": ".py",
   "mimetype": "text/x-python",
   "name": "python",
   "nbconvert_exporter": "python",
   "pygments_lexer": "ipython3",
   "version": "3.8.8"
  }
 },
 "nbformat": 4,
 "nbformat_minor": 5
}
